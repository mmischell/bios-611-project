{
 "cells": [
  {
   "cell_type": "code",
   "execution_count": 1,
   "metadata": {},
   "outputs": [],
   "source": [
    "import pandas as pd\n",
    "from datetime import date\n",
    "import numpy as np\n",
    "\n",
    "import bokeh as bk\n",
    "from bokeh.plotting import figure\n",
    "from bokeh.layouts import column, row\n",
    "from bokeh.models import ColumnDataSource, Slider, TextInput\n",
    "from ipywidgets import interact\n",
    "from bokeh.io import push_notebook, output_notebook, show\n",
    "from bokeh.layouts import gridplot"
   ]
  },
  {
   "cell_type": "code",
   "execution_count": 2,
   "metadata": {
    "scrolled": true
   },
   "outputs": [
    {
     "data": {
      "text/html": [
       "<div>\n",
       "<style scoped>\n",
       "    .dataframe tbody tr th:only-of-type {\n",
       "        vertical-align: middle;\n",
       "    }\n",
       "\n",
       "    .dataframe tbody tr th {\n",
       "        vertical-align: top;\n",
       "    }\n",
       "\n",
       "    .dataframe thead th {\n",
       "        text-align: right;\n",
       "    }\n",
       "</style>\n",
       "<table border=\"1\" class=\"dataframe\">\n",
       "  <thead>\n",
       "    <tr style=\"text-align: right;\">\n",
       "      <th></th>\n",
       "      <th>yearstart</th>\n",
       "      <th>yearend</th>\n",
       "      <th>locationabbr</th>\n",
       "      <th>locationdesc</th>\n",
       "      <th>datasource</th>\n",
       "      <th>class</th>\n",
       "      <th>topic</th>\n",
       "      <th>question</th>\n",
       "      <th>data_value_unit</th>\n",
       "      <th>data_value_type</th>\n",
       "      <th>...</th>\n",
       "      <th>geolocation</th>\n",
       "      <th>classid</th>\n",
       "      <th>topicid</th>\n",
       "      <th>questionid</th>\n",
       "      <th>datavaluetypeid</th>\n",
       "      <th>locationid</th>\n",
       "      <th>stratificationcategory1</th>\n",
       "      <th>stratification1</th>\n",
       "      <th>stratificationcategoryid1</th>\n",
       "      <th>stratificationid1</th>\n",
       "    </tr>\n",
       "  </thead>\n",
       "  <tbody>\n",
       "    <tr>\n",
       "      <th>0</th>\n",
       "      <td>2020</td>\n",
       "      <td>2020</td>\n",
       "      <td>US</td>\n",
       "      <td>National</td>\n",
       "      <td>Behavioral Risk Factor Surveillance System</td>\n",
       "      <td>Physical Activity</td>\n",
       "      <td>Physical Activity - Behavior</td>\n",
       "      <td>Percent of adults who engage in no leisure-tim...</td>\n",
       "      <td>NaN</td>\n",
       "      <td>Value</td>\n",
       "      <td>...</td>\n",
       "      <td>NaN</td>\n",
       "      <td>PA</td>\n",
       "      <td>PA1</td>\n",
       "      <td>Q047</td>\n",
       "      <td>VALUE</td>\n",
       "      <td>59</td>\n",
       "      <td>Race/Ethnicity</td>\n",
       "      <td>Hispanic</td>\n",
       "      <td>RACE</td>\n",
       "      <td>RACEHIS</td>\n",
       "    </tr>\n",
       "    <tr>\n",
       "      <th>1</th>\n",
       "      <td>2014</td>\n",
       "      <td>2014</td>\n",
       "      <td>GU</td>\n",
       "      <td>Guam</td>\n",
       "      <td>Behavioral Risk Factor Surveillance System</td>\n",
       "      <td>Obesity / Weight Status</td>\n",
       "      <td>Obesity / Weight Status</td>\n",
       "      <td>Percent of adults aged 18 years and older who ...</td>\n",
       "      <td>NaN</td>\n",
       "      <td>Value</td>\n",
       "      <td>...</td>\n",
       "      <td>(13.444304, 144.793731)</td>\n",
       "      <td>OWS</td>\n",
       "      <td>OWS1</td>\n",
       "      <td>Q036</td>\n",
       "      <td>VALUE</td>\n",
       "      <td>66</td>\n",
       "      <td>Education</td>\n",
       "      <td>High school graduate</td>\n",
       "      <td>EDU</td>\n",
       "      <td>EDUHSGRAD</td>\n",
       "    </tr>\n",
       "    <tr>\n",
       "      <th>2</th>\n",
       "      <td>2013</td>\n",
       "      <td>2013</td>\n",
       "      <td>US</td>\n",
       "      <td>National</td>\n",
       "      <td>Behavioral Risk Factor Surveillance System</td>\n",
       "      <td>Obesity / Weight Status</td>\n",
       "      <td>Obesity / Weight Status</td>\n",
       "      <td>Percent of adults aged 18 years and older who ...</td>\n",
       "      <td>NaN</td>\n",
       "      <td>Value</td>\n",
       "      <td>...</td>\n",
       "      <td>NaN</td>\n",
       "      <td>OWS</td>\n",
       "      <td>OWS1</td>\n",
       "      <td>Q036</td>\n",
       "      <td>VALUE</td>\n",
       "      <td>59</td>\n",
       "      <td>Income</td>\n",
       "      <td>$50,000 - $74,999</td>\n",
       "      <td>INC</td>\n",
       "      <td>INC5075</td>\n",
       "    </tr>\n",
       "    <tr>\n",
       "      <th>3</th>\n",
       "      <td>2013</td>\n",
       "      <td>2013</td>\n",
       "      <td>US</td>\n",
       "      <td>National</td>\n",
       "      <td>Behavioral Risk Factor Surveillance System</td>\n",
       "      <td>Obesity / Weight Status</td>\n",
       "      <td>Obesity / Weight Status</td>\n",
       "      <td>Percent of adults aged 18 years and older who ...</td>\n",
       "      <td>NaN</td>\n",
       "      <td>Value</td>\n",
       "      <td>...</td>\n",
       "      <td>NaN</td>\n",
       "      <td>OWS</td>\n",
       "      <td>OWS1</td>\n",
       "      <td>Q037</td>\n",
       "      <td>VALUE</td>\n",
       "      <td>59</td>\n",
       "      <td>Income</td>\n",
       "      <td>Data not reported</td>\n",
       "      <td>INC</td>\n",
       "      <td>INCNR</td>\n",
       "    </tr>\n",
       "    <tr>\n",
       "      <th>4</th>\n",
       "      <td>2015</td>\n",
       "      <td>2015</td>\n",
       "      <td>US</td>\n",
       "      <td>National</td>\n",
       "      <td>Behavioral Risk Factor Surveillance System</td>\n",
       "      <td>Physical Activity</td>\n",
       "      <td>Physical Activity - Behavior</td>\n",
       "      <td>Percent of adults who achieve at least 300 min...</td>\n",
       "      <td>NaN</td>\n",
       "      <td>Value</td>\n",
       "      <td>...</td>\n",
       "      <td>NaN</td>\n",
       "      <td>PA</td>\n",
       "      <td>PA1</td>\n",
       "      <td>Q045</td>\n",
       "      <td>VALUE</td>\n",
       "      <td>59</td>\n",
       "      <td>Income</td>\n",
       "      <td>Less than $15,000</td>\n",
       "      <td>INC</td>\n",
       "      <td>INCLESS15</td>\n",
       "    </tr>\n",
       "  </tbody>\n",
       "</table>\n",
       "<p>5 rows × 33 columns</p>\n",
       "</div>"
      ],
      "text/plain": [
       "   yearstart  yearend locationabbr locationdesc  \\\n",
       "0       2020     2020           US     National   \n",
       "1       2014     2014           GU         Guam   \n",
       "2       2013     2013           US     National   \n",
       "3       2013     2013           US     National   \n",
       "4       2015     2015           US     National   \n",
       "\n",
       "                                   datasource                    class  \\\n",
       "0  Behavioral Risk Factor Surveillance System        Physical Activity   \n",
       "1  Behavioral Risk Factor Surveillance System  Obesity / Weight Status   \n",
       "2  Behavioral Risk Factor Surveillance System  Obesity / Weight Status   \n",
       "3  Behavioral Risk Factor Surveillance System  Obesity / Weight Status   \n",
       "4  Behavioral Risk Factor Surveillance System        Physical Activity   \n",
       "\n",
       "                          topic  \\\n",
       "0  Physical Activity - Behavior   \n",
       "1       Obesity / Weight Status   \n",
       "2       Obesity / Weight Status   \n",
       "3       Obesity / Weight Status   \n",
       "4  Physical Activity - Behavior   \n",
       "\n",
       "                                            question  data_value_unit  \\\n",
       "0  Percent of adults who engage in no leisure-tim...              NaN   \n",
       "1  Percent of adults aged 18 years and older who ...              NaN   \n",
       "2  Percent of adults aged 18 years and older who ...              NaN   \n",
       "3  Percent of adults aged 18 years and older who ...              NaN   \n",
       "4  Percent of adults who achieve at least 300 min...              NaN   \n",
       "\n",
       "  data_value_type  ...              geolocation  classid topicid questionid  \\\n",
       "0           Value  ...                      NaN       PA     PA1       Q047   \n",
       "1           Value  ...  (13.444304, 144.793731)      OWS    OWS1       Q036   \n",
       "2           Value  ...                      NaN      OWS    OWS1       Q036   \n",
       "3           Value  ...                      NaN      OWS    OWS1       Q037   \n",
       "4           Value  ...                      NaN       PA     PA1       Q045   \n",
       "\n",
       "   datavaluetypeid  locationid  stratificationcategory1       stratification1  \\\n",
       "0            VALUE          59           Race/Ethnicity              Hispanic   \n",
       "1            VALUE          66                Education  High school graduate   \n",
       "2            VALUE          59                   Income     $50,000 - $74,999   \n",
       "3            VALUE          59                   Income     Data not reported   \n",
       "4            VALUE          59                   Income     Less than $15,000   \n",
       "\n",
       "  stratificationcategoryid1 stratificationid1  \n",
       "0                      RACE           RACEHIS  \n",
       "1                       EDU         EDUHSGRAD  \n",
       "2                       INC           INC5075  \n",
       "3                       INC             INCNR  \n",
       "4                       INC         INCLESS15  \n",
       "\n",
       "[5 rows x 33 columns]"
      ]
     },
     "execution_count": 2,
     "metadata": {},
     "output_type": "execute_result"
    }
   ],
   "source": [
    "df = pd.read_csv('derived_data/clean_obesity_risk_factors.csv')\n",
    "df.head()"
   ]
  },
  {
   "cell_type": "code",
   "execution_count": 3,
   "metadata": {},
   "outputs": [
    {
     "data": {
      "text/plain": [
       "Index(['yearstart', 'yearend', 'locationabbr', 'locationdesc', 'datasource',\n",
       "       'class', 'topic', 'question', 'data_value_unit', 'data_value_type',\n",
       "       'data_value', 'data_value_alt', 'data_value_footnote_symbol',\n",
       "       'data_value_footnote', 'low_confidence_limit', 'high_confidence_limit',\n",
       "       'sample_size', 'total', 'age_years_', 'education', 'gender', 'income',\n",
       "       'race_ethnicity', 'geolocation', 'classid', 'topicid', 'questionid',\n",
       "       'datavaluetypeid', 'locationid', 'stratificationcategory1',\n",
       "       'stratification1', 'stratificationcategoryid1', 'stratificationid1'],\n",
       "      dtype='object')"
      ]
     },
     "execution_count": 3,
     "metadata": {},
     "output_type": "execute_result"
    }
   ],
   "source": [
    "df.columns"
   ]
  },
  {
   "cell_type": "code",
   "execution_count": 4,
   "metadata": {},
   "outputs": [],
   "source": [
    "formatted = df[['yearstart', 'locationabbr', 'questionid', 'data_value', 'stratification1']]\n",
    "formatted = pd.pivot_table(\n",
    "    formatted\n",
    "    , values='data_value'\n",
    "    , index=['yearstart', 'locationabbr']\n",
    "    , columns=['questionid', 'stratification1']\n",
    "    , fill_value=0\n",
    ")"
   ]
  },
  {
   "cell_type": "code",
   "execution_count": 5,
   "metadata": {},
   "outputs": [
    {
     "data": {
      "text/plain": [
       "array([[ 0. ,  0. ,  0. , ..., 35.6, 21.2, 22. ],\n",
       "       [ 0. ,  0. ,  0. , ...,  0. , 31.6, 32.6],\n",
       "       [ 0. ,  0. ,  0. , ...,  0. , 26.8, 30.9],\n",
       "       ...,\n",
       "       [ 0. ,  0. ,  0. , ...,  0. , 20.9, 20.5],\n",
       "       [ 0. ,  0. ,  0. , ...,  0. , 24.7, 29.7],\n",
       "       [ 0. ,  0. ,  0. , ...,  0. , 22.6, 22.4]])"
      ]
     },
     "execution_count": 5,
     "metadata": {},
     "output_type": "execute_result"
    }
   ],
   "source": [
    "formatted.values"
   ]
  },
  {
   "cell_type": "code",
   "execution_count": 6,
   "metadata": {
    "scrolled": true
   },
   "outputs": [
    {
     "name": "stdout",
     "output_type": "stream",
     "text": [
      "[7.06367774e-01 1.22453195e-01 3.00546561e-02 2.49185747e-02\n",
      " 2.02314277e-02 1.42014141e-02 7.50823333e-03 7.15960396e-03\n",
      " 6.28179912e-03 6.00602033e-03 4.90753323e-03 4.08771633e-03\n",
      " 3.24399248e-03 2.85721201e-03 2.39869322e-03 1.98753763e-03\n",
      " 1.98358501e-03 1.75048073e-03 1.62386757e-03 1.50150867e-03\n",
      " 1.38706379e-03 1.33543066e-03 1.27970145e-03 1.12820174e-03\n",
      " 9.60265066e-04 9.48300407e-04 8.51617726e-04 7.85768413e-04\n",
      " 7.22159725e-04 6.87645234e-04 6.62376114e-04 6.23827172e-04\n",
      " 5.92498248e-04 5.72255385e-04 5.26220059e-04 5.19076262e-04\n",
      " 5.00552988e-04 4.77990625e-04 4.57231710e-04 4.49364598e-04\n",
      " 4.05348202e-04 3.99108293e-04 3.73889097e-04 3.57019185e-04\n",
      " 3.40111378e-04 3.36741150e-04 3.29875501e-04 3.06926944e-04\n",
      " 2.95958018e-04 2.83435637e-04 2.75242243e-04 2.62645007e-04\n",
      " 2.50185430e-04 2.47243432e-04 2.31820323e-04 2.25619549e-04\n",
      " 2.19125308e-04 2.13416473e-04 2.04901380e-04 2.00331642e-04\n",
      " 1.97005048e-04 1.92614212e-04 1.84471566e-04 1.82252669e-04\n",
      " 1.79510568e-04 1.73360786e-04 1.65617758e-04 1.60220131e-04\n",
      " 1.56955175e-04 1.51480987e-04 1.48836650e-04 1.44263132e-04\n",
      " 1.41439548e-04 1.36186187e-04 1.31822854e-04 1.26298230e-04\n",
      " 1.22091624e-04 1.21453902e-04 1.15485649e-04 1.13056756e-04\n",
      " 1.10142452e-04 1.09898850e-04 1.06486105e-04 1.03141605e-04\n",
      " 9.99901043e-05 9.52822980e-05 9.35737325e-05 9.17039466e-05\n",
      " 9.05126094e-05 8.61189606e-05 8.56735883e-05 8.35893796e-05\n",
      " 8.16916976e-05 7.98724415e-05 7.86156698e-05 7.80006923e-05\n",
      " 7.57103130e-05 7.27217838e-05 7.04474774e-05 6.93701819e-05\n",
      " 6.71936030e-05 6.54444602e-05 6.44164040e-05 6.34245940e-05\n",
      " 6.09466145e-05 5.98500016e-05 5.82667157e-05 5.66996825e-05\n",
      " 5.55105862e-05 5.48147548e-05 5.40538740e-05 5.29220753e-05\n",
      " 5.17456996e-05 4.98840889e-05 4.80943376e-05 4.74454531e-05\n",
      " 4.62048086e-05 4.55368473e-05 4.45158126e-05 4.30989074e-05\n",
      " 4.19643419e-05 4.18565341e-05 4.01137396e-05 3.92909173e-05\n",
      " 3.74977615e-05 3.67121241e-05 3.57975895e-05 3.51472199e-05\n",
      " 3.43615413e-05 3.27541887e-05 3.18906721e-05 3.14917587e-05\n",
      " 3.05287476e-05 2.89030755e-05 2.86441410e-05 2.81687183e-05\n",
      " 2.80071467e-05 2.60654234e-05 2.49976640e-05 2.37757946e-05\n",
      " 2.33298337e-05 2.28924116e-05 2.28230309e-05 2.17221343e-05\n",
      " 2.11485612e-05 2.08232982e-05 2.06825805e-05 1.99968267e-05\n",
      " 1.94100998e-05 1.90309082e-05 1.79990940e-05 1.74368719e-05\n",
      " 1.71008522e-05 1.67405619e-05 1.64787259e-05 1.58569781e-05\n",
      " 1.47731264e-05 1.46698557e-05 1.39274611e-05 1.37624889e-05\n",
      " 1.33754431e-05 1.29463649e-05 1.21686356e-05 1.18937527e-05\n",
      " 1.17459126e-05 1.10124228e-05 1.06919725e-05 1.03782427e-05\n",
      " 1.02194429e-05 9.63167839e-06 9.16376242e-06 8.95161350e-06\n",
      " 8.59129260e-06 8.31449054e-06 7.89786013e-06 7.84540831e-06\n",
      " 7.58856684e-06 7.41234814e-06 7.22679355e-06 7.01621820e-06\n",
      " 6.63874294e-06 6.54670322e-06 6.19009463e-06 5.84480486e-06\n",
      " 5.56843138e-06 5.49691475e-06 5.12245797e-06 4.87641216e-06\n",
      " 4.74709533e-06 4.42586799e-06 4.33528693e-06 4.05012894e-06\n",
      " 3.89579779e-06 3.73258166e-06 3.46883214e-06 3.33847872e-06\n",
      " 3.13703459e-06 3.06184044e-06 3.03251175e-06 2.80673170e-06\n",
      " 2.60653961e-06 2.52663783e-06 2.43175172e-06 2.25383554e-06\n",
      " 2.17164053e-06 2.03044741e-06 1.96720084e-06 1.83757935e-06\n",
      " 1.72160825e-06 1.66161574e-06 1.49347831e-06 1.45803575e-06\n",
      " 1.39875677e-06 1.26916610e-06 1.24493502e-06 1.00353706e-06\n",
      " 9.37387585e-07 8.87989206e-07 8.31773243e-07 7.75916187e-07\n",
      " 7.36608309e-07 6.84790985e-07 6.59063090e-07 5.33016886e-07\n",
      " 5.13579858e-07 4.74168454e-07 3.33052752e-07 3.06095145e-07\n",
      " 2.78948347e-07 2.47947158e-07 2.06735760e-07 2.01877005e-07\n",
      " 1.69801471e-07 1.62332188e-07 1.36005312e-07 1.17431776e-07\n",
      " 9.29659317e-08 7.47181210e-08 5.23042238e-08 4.38460282e-08\n",
      " 3.66733186e-08 2.87317651e-08 1.87801452e-08 1.51338872e-08\n",
      " 1.33394984e-08 1.18850447e-08 1.01170437e-08 5.36165637e-09\n",
      " 3.05555202e-09 2.44311276e-09 1.79913958e-09 6.98168144e-10]\n"
     ]
    }
   ],
   "source": [
    "from sklearn.decomposition import PCA\n",
    "\n",
    "pca = PCA()\n",
    "pca.fit(formatted.values)\n",
    "print(pca.explained_variance_ratio_)"
   ]
  },
  {
   "cell_type": "code",
   "execution_count": 44,
   "metadata": {},
   "outputs": [
    {
     "data": {
      "text/plain": [
       "array([ 5.44343040e-02,  5.34313602e-02,  5.22597103e-02,  5.08010221e-02,\n",
       "        4.65481962e-02,  5.68812286e-02,  5.06760852e-02,  5.36474769e-02,\n",
       "        5.08626721e-02,  5.40083117e-02,  5.14823570e-02,  4.34171272e-02,\n",
       "        3.73834978e-02,  3.08125754e-02,  4.18887705e-02,  5.12252733e-02,\n",
       "        4.66966318e-02,  3.41866119e-03,  5.70812184e-02,  4.53076576e-02,\n",
       "        6.04267796e-02,  5.71594698e-02,  5.57154516e-02,  4.60674067e-02,\n",
       "        5.01402819e-02,  1.43062179e-02,  5.21297025e-02,  5.11090857e-02,\n",
       "        3.36640618e-02,  3.01450569e-02,  2.53051157e-02,  2.21160084e-02,\n",
       "        1.73001156e-02,  3.42444466e-02,  2.40859156e-02,  2.64425041e-02,\n",
       "        2.36617999e-02,  2.49024079e-02,  2.48197362e-02,  2.39137250e-02,\n",
       "        1.77514734e-02,  1.48143207e-02,  1.70445156e-02,  3.06487814e-02,\n",
       "        2.27212897e-02,  2.05382139e-03,  3.06852740e-02,  3.84689290e-02,\n",
       "        4.07305967e-02,  4.26949509e-02,  2.91966930e-02,  2.90123896e-02,\n",
       "        2.12735851e-02,  6.90596809e-03,  2.38560957e-02,  2.58841158e-02,\n",
       "       -8.24293026e-04, -1.01381049e-03, -2.05057051e-03, -2.79700517e-03,\n",
       "       -2.20322927e-03, -1.44008631e-03,  2.04168243e-03, -1.93232203e-03,\n",
       "       -3.31354833e-03, -2.03005622e-03, -1.11285095e-03, -6.59087463e-04,\n",
       "        8.61688991e-03,  5.31496844e-04, -2.51285668e-03, -4.89820331e-04,\n",
       "       -2.15255068e-03,  2.96577189e-04, -9.40978765e-04, -7.81137748e-04,\n",
       "       -4.97969035e-04, -8.61609324e-04, -1.07009534e-03, -2.27870606e-03,\n",
       "       -2.48570920e-04,  1.33676718e-03, -1.70987405e-03, -1.62012435e-03,\n",
       "        1.56604405e-04, -9.51827759e-04,  5.64048822e-04,  4.02445076e-04,\n",
       "        2.66643809e-04,  5.04183036e-04,  4.83151946e-03,  9.84493194e-05,\n",
       "        1.07004746e-03,  6.34497804e-04,  3.14784252e-04, -9.56038297e-04,\n",
       "        8.98316654e-03,  6.33556595e-04,  2.95252576e-04, -1.07723236e-03,\n",
       "        3.05737458e-05, -3.62090996e-04,  2.13619408e-04,  3.39902241e-03,\n",
       "        7.00758719e-04,  6.67221288e-04,  3.14378778e-04,  1.60243467e-03,\n",
       "        1.39868856e-03,  2.54169384e-03, -4.36883418e-05,  1.97454985e-04,\n",
       "        1.21167642e-01,  1.29877907e-01,  1.38988893e-01,  1.46476940e-01,\n",
       "        1.62920373e-01,  1.46598790e-01,  1.36629751e-01,  1.36389891e-01,\n",
       "        1.36153592e-01,  1.36809101e-01,  1.39900365e-01,  1.46353283e-01,\n",
       "        9.35895671e-02,  9.02658217e-02,  1.63809615e-01,  1.32247126e-01,\n",
       "        1.37373823e-01,  9.41551738e-03,  1.28783844e-01,  1.17655733e-01,\n",
       "        1.13919535e-01,  1.05278103e-01,  1.43576814e-01,  9.68845880e-02,\n",
       "        1.47355993e-01,  4.93999081e-02,  1.43527450e-01,  1.40373790e-01,\n",
       "        4.59291834e-02,  4.95822834e-02,  5.50561973e-02,  6.04419111e-02,\n",
       "        7.32001520e-02,  7.95428153e-02,  6.28447392e-02,  6.29422956e-02,\n",
       "        5.67449109e-02,  5.30689859e-02,  5.01352500e-02,  5.04399308e-02,\n",
       "        4.10648263e-02,  3.84313678e-02,  7.42744712e-02,  5.33649993e-02,\n",
       "        5.23305140e-02,  4.76081854e-03,  4.85261829e-02,  5.16316485e-02,\n",
       "        4.18120490e-02,  3.56915873e-02,  6.34905504e-02,  4.56037524e-02,\n",
       "        5.96144748e-02,  2.26928638e-02,  6.00322794e-02,  5.77805193e-02,\n",
       "        7.82620875e-02,  8.28845487e-02,  8.78974374e-02,  9.04663913e-02,\n",
       "        9.88178293e-02,  8.69371386e-02,  8.89450576e-02,  7.61265877e-02,\n",
       "        7.81882846e-02,  8.34908958e-02,  9.13716506e-02,  1.07577797e-01,\n",
       "        6.46483172e-02,  4.92263265e-02,  9.85811019e-02,  8.55980815e-02,\n",
       "        8.35675519e-02,  6.16647411e-03,  8.36774407e-02,  6.98061043e-02,\n",
       "        7.40723123e-02,  6.98561778e-02,  9.25959430e-02,  5.87373075e-02,\n",
       "        9.34238664e-02,  3.30729143e-02,  8.94033124e-02,  8.79653419e-02,\n",
       "        7.32540818e-02,  7.66954892e-02,  8.28096167e-02,  8.91106467e-02,\n",
       "        1.01495071e-01,  1.22701925e-01,  9.35296957e-02,  9.90840634e-02,\n",
       "        8.54525551e-02,  7.63207814e-02,  7.11382654e-02,  6.90910331e-02,\n",
       "        6.33670058e-02,  6.36123911e-02,  1.02944492e-01,  8.04379727e-02,\n",
       "        7.49749930e-02,  6.71210316e-03,  7.49738310e-02,  8.20059565e-02,\n",
       "        6.88778511e-02,  6.08238493e-02,  9.61591070e-02,  7.15808428e-02,\n",
       "        8.58248861e-02,  3.42235937e-02,  8.88704080e-02,  8.52950009e-02,\n",
       "        3.39876596e-03,  6.45892734e-03,  7.81442606e-03,  8.90980198e-03,\n",
       "        9.24181701e-03,  6.82945206e-03,  5.77158004e-03,  8.68838201e-03,\n",
       "        8.10216997e-03,  6.37014346e-03,  3.13214439e-03,  1.39520977e-04,\n",
       "        4.61275972e-03,  3.41783790e-03,  6.19714160e-03,  3.95858916e-03,\n",
       "        2.99765839e-03,  5.02180650e-05,  5.40026017e-03,  4.82567179e-03,\n",
       "       -4.30435331e-03,  9.06376648e-04,  7.63204671e-03,  3.10692142e-03,\n",
       "        7.48634325e-03, -8.21576433e-04,  7.85529831e-03,  5.27272917e-03])"
      ]
     },
     "execution_count": 44,
     "metadata": {},
     "output_type": "execute_result"
    }
   ],
   "source": [
    "pca.components_[0]"
   ]
  },
  {
   "cell_type": "code",
   "execution_count": 7,
   "metadata": {
    "scrolled": true
   },
   "outputs": [
    {
     "data": {
      "text/plain": [
       "(535, 252)"
      ]
     },
     "execution_count": 7,
     "metadata": {},
     "output_type": "execute_result"
    }
   ],
   "source": [
    "formatted.shape"
   ]
  },
  {
   "cell_type": "code",
   "execution_count": 8,
   "metadata": {
    "scrolled": true
   },
   "outputs": [
    {
     "name": "stdout",
     "output_type": "stream",
     "text": [
      "[0.70636777 0.82882097 0.85887562 0.8837942  0.90402563 0.91822704\n",
      " 0.92573527 0.93289488 0.93917668 0.9451827  0.95009023 0.95417795\n",
      " 0.95742194 0.96027915 0.96267785 0.96466538 0.96664897 0.96839945\n",
      " 0.97002332 0.97152482 0.97291189 0.97424732 0.97552702 0.97665522\n",
      " 0.97761549 0.97856379 0.97941541 0.98020117 0.98092333 0.98161098\n",
      " 0.98227336 0.98289718 0.98348968 0.98406194 0.98458816 0.98510723\n",
      " 0.98560779 0.98608578 0.98654301 0.98699237 0.98739772 0.98779683\n",
      " 0.98817072 0.98852774 0.98886785 0.98920459 0.98953447 0.98984139\n",
      " 0.99013735 0.99042079 0.99069603 0.99095867 0.99120886 0.9914561\n",
      " 0.99168792 0.99191354 0.99213267 0.99234608 0.99255098 0.99275132\n",
      " 0.99294832 0.99314094 0.99332541 0.99350766 0.99368717 0.99386053\n",
      " 0.99402615 0.99418637 0.99434332 0.99449481 0.99464364 0.99478791\n",
      " 0.99492934 0.99506553 0.99519735 0.99532365 0.99544574 0.9955672\n",
      " 0.99568268 0.99579574 0.99590588 0.99601578 0.99612227 0.99622541\n",
      " 0.9963254  0.99642068 0.99651426 0.99660596 0.99669647 0.99678259\n",
      " 0.99686826 0.99695185 0.99703355 0.99711342 0.99719203 0.99727003\n",
      " 0.99734574 0.99741847 0.99748891 0.99755828 0.99762548 0.99769092\n",
      " 0.99775534 0.99781876 0.99787971 0.99793956 0.99799783 0.99805453\n",
      " 0.99811004 0.99816485 0.99821891 0.99827183 0.99832357 0.99837346\n",
      " 0.99842155 0.998469   0.9985152  0.99856074 0.99860525 0.99864835\n",
      " 0.99869032 0.99873217 0.99877229 0.99881158 0.99884908 0.99888579\n",
      " 0.99892159 0.99895673 0.99899109 0.99902385 0.99905574 0.99908723\n",
      " 0.99911776 0.99914666 0.99917531 0.99920348 0.99923148 0.99925755\n",
      " 0.99928255 0.99930632 0.99932965 0.99935254 0.99937537 0.99939709\n",
      " 0.99941824 0.99943906 0.99945974 0.99947974 0.99949915 0.99951818\n",
      " 0.99953618 0.99955362 0.99957072 0.99958746 0.99960394 0.99961979\n",
      " 0.99963457 0.99964924 0.99966317 0.99967693 0.9996903  0.99970325\n",
      " 0.99971542 0.99972731 0.99973906 0.99975007 0.99976076 0.99977114\n",
      " 0.99978136 0.99979099 0.99980016 0.99980911 0.9998177  0.99982601\n",
      " 0.99983391 0.99984176 0.99984934 0.99985676 0.99986398 0.999871\n",
      " 0.99987764 0.99988419 0.99989038 0.99989622 0.99990179 0.99990729\n",
      " 0.99991241 0.99991728 0.99992203 0.99992646 0.99993079 0.99993484\n",
      " 0.99993874 0.99994247 0.99994594 0.99994928 0.99995242 0.99995548\n",
      " 0.99995851 0.99996132 0.99996392 0.99996645 0.99996888 0.99997114\n",
      " 0.99997331 0.99997534 0.9999773  0.99997914 0.99998086 0.99998253\n",
      " 0.99998402 0.99998548 0.99998688 0.99998815 0.99998939 0.99999039\n",
      " 0.99999133 0.99999222 0.99999305 0.99999383 0.99999456 0.99999525\n",
      " 0.99999591 0.99999644 0.99999695 0.99999743 0.99999776 0.99999807\n",
      " 0.99999835 0.99999859 0.9999988  0.999999   0.99999917 0.99999933\n",
      " 0.99999947 0.99999959 0.99999968 0.99999976 0.99999981 0.99999985\n",
      " 0.99999989 0.99999992 0.99999994 0.99999995 0.99999996 0.99999998\n",
      " 0.99999999 0.99999999 1.         1.         1.         1.        ]\n"
     ]
    }
   ],
   "source": [
    "print(pca.explained_variance_ratio_.cumsum())"
   ]
  },
  {
   "cell_type": "code",
   "execution_count": 26,
   "metadata": {},
   "outputs": [
    {
     "data": {
      "text/plain": [
       "252"
      ]
     },
     "execution_count": 26,
     "metadata": {},
     "output_type": "execute_result"
    }
   ],
   "source": [
    "len(pca.components_[0])"
   ]
  },
  {
   "cell_type": "code",
   "execution_count": 45,
   "metadata": {},
   "outputs": [
    {
     "data": {
      "text/plain": [
       "252"
      ]
     },
     "execution_count": 45,
     "metadata": {},
     "output_type": "execute_result"
    }
   ],
   "source": [
    "pca.n_components_"
   ]
  },
  {
   "cell_type": "code",
   "execution_count": 46,
   "metadata": {},
   "outputs": [
    {
     "data": {
      "text/plain": [
       "252"
      ]
     },
     "execution_count": 46,
     "metadata": {},
     "output_type": "execute_result"
    }
   ],
   "source": [
    "len(pca.components_)"
   ]
  },
  {
   "cell_type": "code",
   "execution_count": 48,
   "metadata": {},
   "outputs": [
    {
     "data": {
      "text/plain": [
       "252"
      ]
     },
     "execution_count": 48,
     "metadata": {},
     "output_type": "execute_result"
    }
   ],
   "source": [
    "len(pca.components_[251])"
   ]
  },
  {
   "cell_type": "code",
   "execution_count": 27,
   "metadata": {
    "scrolled": true
   },
   "outputs": [
    {
     "data": {
      "text/plain": [
       "(535, 252)"
      ]
     },
     "execution_count": 27,
     "metadata": {},
     "output_type": "execute_result"
    }
   ],
   "source": [
    "formatted.shape"
   ]
  },
  {
   "cell_type": "code",
   "execution_count": 9,
   "metadata": {
    "scrolled": true
   },
   "outputs": [
    {
     "name": "stderr",
     "output_type": "stream",
     "text": [
      "/tmp/ipykernel_11/2294269954.py:1: FutureWarning: merging between different levels is deprecated and will be removed in a future version. (2 levels on the left, 1 on the right)\n",
      "  plot_data = formatted.reset_index()[['locationabbr', 'yearstart']]\\\n"
     ]
    },
    {
     "data": {
      "text/html": [
       "<div>\n",
       "<style scoped>\n",
       "    .dataframe tbody tr th:only-of-type {\n",
       "        vertical-align: middle;\n",
       "    }\n",
       "\n",
       "    .dataframe tbody tr th {\n",
       "        vertical-align: top;\n",
       "    }\n",
       "\n",
       "    .dataframe thead th {\n",
       "        text-align: right;\n",
       "    }\n",
       "</style>\n",
       "<table border=\"1\" class=\"dataframe\">\n",
       "  <thead>\n",
       "    <tr style=\"text-align: right;\">\n",
       "      <th></th>\n",
       "      <th>(locationabbr, )</th>\n",
       "      <th>(yearstart, )</th>\n",
       "      <th>PC1</th>\n",
       "      <th>PC2</th>\n",
       "    </tr>\n",
       "  </thead>\n",
       "  <tbody>\n",
       "    <tr>\n",
       "      <th>0</th>\n",
       "      <td>AK</td>\n",
       "      <td>2011</td>\n",
       "      <td>0.054434</td>\n",
       "      <td>0.175641</td>\n",
       "    </tr>\n",
       "    <tr>\n",
       "      <th>1</th>\n",
       "      <td>AL</td>\n",
       "      <td>2011</td>\n",
       "      <td>0.053431</td>\n",
       "      <td>0.171641</td>\n",
       "    </tr>\n",
       "    <tr>\n",
       "      <th>2</th>\n",
       "      <td>AR</td>\n",
       "      <td>2011</td>\n",
       "      <td>0.052260</td>\n",
       "      <td>0.168841</td>\n",
       "    </tr>\n",
       "    <tr>\n",
       "      <th>3</th>\n",
       "      <td>AZ</td>\n",
       "      <td>2011</td>\n",
       "      <td>0.050801</td>\n",
       "      <td>0.164946</td>\n",
       "    </tr>\n",
       "    <tr>\n",
       "      <th>4</th>\n",
       "      <td>CA</td>\n",
       "      <td>2011</td>\n",
       "      <td>0.046548</td>\n",
       "      <td>0.150727</td>\n",
       "    </tr>\n",
       "  </tbody>\n",
       "</table>\n",
       "</div>"
      ],
      "text/plain": [
       "  (locationabbr, )  (yearstart, )       PC1       PC2\n",
       "0               AK           2011  0.054434  0.175641\n",
       "1               AL           2011  0.053431  0.171641\n",
       "2               AR           2011  0.052260  0.168841\n",
       "3               AZ           2011  0.050801  0.164946\n",
       "4               CA           2011  0.046548  0.150727"
      ]
     },
     "execution_count": 9,
     "metadata": {},
     "output_type": "execute_result"
    }
   ],
   "source": [
    "plot_data = formatted.reset_index()[['locationabbr', 'yearstart']]\\\n",
    "    .join(\n",
    "        pd.DataFrame(\n",
    "            {'PC1': pca.components_[0], 'PC2': pca.components_[1]}\n",
    "        )\n",
    "    )\n",
    "plot_data.head()"
   ]
  },
  {
   "cell_type": "code",
   "execution_count": 10,
   "metadata": {
    "scrolled": true
   },
   "outputs": [
    {
     "data": {
      "text/plain": [
       "Index([('locationabbr', ''), ('yearstart', ''), 'PC1', 'PC2'], dtype='object')"
      ]
     },
     "execution_count": 10,
     "metadata": {},
     "output_type": "execute_result"
    }
   ],
   "source": [
    "plot_data.columns"
   ]
  },
  {
   "cell_type": "code",
   "execution_count": 11,
   "metadata": {},
   "outputs": [
    {
     "data": {
      "text/html": [
       "<div>\n",
       "<style scoped>\n",
       "    .dataframe tbody tr th:only-of-type {\n",
       "        vertical-align: middle;\n",
       "    }\n",
       "\n",
       "    .dataframe tbody tr th {\n",
       "        vertical-align: top;\n",
       "    }\n",
       "\n",
       "    .dataframe thead th {\n",
       "        text-align: right;\n",
       "    }\n",
       "</style>\n",
       "<table border=\"1\" class=\"dataframe\">\n",
       "  <thead>\n",
       "    <tr style=\"text-align: right;\">\n",
       "      <th></th>\n",
       "      <th>locationabbr</th>\n",
       "      <th>yearstart</th>\n",
       "      <th>PC1</th>\n",
       "      <th>PC2</th>\n",
       "    </tr>\n",
       "  </thead>\n",
       "  <tbody>\n",
       "    <tr>\n",
       "      <th>0</th>\n",
       "      <td>AK</td>\n",
       "      <td>2011</td>\n",
       "      <td>0.054434</td>\n",
       "      <td>0.175641</td>\n",
       "    </tr>\n",
       "    <tr>\n",
       "      <th>1</th>\n",
       "      <td>AL</td>\n",
       "      <td>2011</td>\n",
       "      <td>0.053431</td>\n",
       "      <td>0.171641</td>\n",
       "    </tr>\n",
       "    <tr>\n",
       "      <th>2</th>\n",
       "      <td>AR</td>\n",
       "      <td>2011</td>\n",
       "      <td>0.052260</td>\n",
       "      <td>0.168841</td>\n",
       "    </tr>\n",
       "    <tr>\n",
       "      <th>3</th>\n",
       "      <td>AZ</td>\n",
       "      <td>2011</td>\n",
       "      <td>0.050801</td>\n",
       "      <td>0.164946</td>\n",
       "    </tr>\n",
       "    <tr>\n",
       "      <th>4</th>\n",
       "      <td>CA</td>\n",
       "      <td>2011</td>\n",
       "      <td>0.046548</td>\n",
       "      <td>0.150727</td>\n",
       "    </tr>\n",
       "  </tbody>\n",
       "</table>\n",
       "</div>"
      ],
      "text/plain": [
       "  locationabbr  yearstart       PC1       PC2\n",
       "0           AK       2011  0.054434  0.175641\n",
       "1           AL       2011  0.053431  0.171641\n",
       "2           AR       2011  0.052260  0.168841\n",
       "3           AZ       2011  0.050801  0.164946\n",
       "4           CA       2011  0.046548  0.150727"
      ]
     },
     "execution_count": 11,
     "metadata": {},
     "output_type": "execute_result"
    }
   ],
   "source": [
    "plot_data.columns = ['locationabbr', 'yearstart', 'PC1', 'PC2']\n",
    "plot_data.head()"
   ]
  },
  {
   "cell_type": "code",
   "execution_count": 12,
   "metadata": {},
   "outputs": [],
   "source": [
    "from bokeh.palettes import inferno"
   ]
  },
  {
   "cell_type": "code",
   "execution_count": 13,
   "metadata": {},
   "outputs": [],
   "source": [
    "n_colors = plot_data.locationabbr.nunique() \n",
    "color_map = {l:c for l,c in zip(plot_data.locationabbr.unique(), inferno(n=n_colors))}"
   ]
  },
  {
   "cell_type": "code",
   "execution_count": 14,
   "metadata": {},
   "outputs": [],
   "source": [
    "plot_data['color'] = plot_data.locationabbr.map(color_map)"
   ]
  },
  {
   "cell_type": "code",
   "execution_count": 15,
   "metadata": {},
   "outputs": [
    {
     "data": {
      "text/html": [
       "<div>\n",
       "<style scoped>\n",
       "    .dataframe tbody tr th:only-of-type {\n",
       "        vertical-align: middle;\n",
       "    }\n",
       "\n",
       "    .dataframe tbody tr th {\n",
       "        vertical-align: top;\n",
       "    }\n",
       "\n",
       "    .dataframe thead th {\n",
       "        text-align: right;\n",
       "    }\n",
       "</style>\n",
       "<table border=\"1\" class=\"dataframe\">\n",
       "  <thead>\n",
       "    <tr style=\"text-align: right;\">\n",
       "      <th></th>\n",
       "      <th>locationabbr</th>\n",
       "      <th>yearstart</th>\n",
       "      <th>PC1</th>\n",
       "      <th>PC2</th>\n",
       "      <th>color</th>\n",
       "    </tr>\n",
       "  </thead>\n",
       "  <tbody>\n",
       "    <tr>\n",
       "      <th>0</th>\n",
       "      <td>AK</td>\n",
       "      <td>2011</td>\n",
       "      <td>0.054434</td>\n",
       "      <td>0.175641</td>\n",
       "      <td>#000003</td>\n",
       "    </tr>\n",
       "    <tr>\n",
       "      <th>1</th>\n",
       "      <td>AL</td>\n",
       "      <td>2011</td>\n",
       "      <td>0.053431</td>\n",
       "      <td>0.171641</td>\n",
       "      <td>#010109</td>\n",
       "    </tr>\n",
       "    <tr>\n",
       "      <th>2</th>\n",
       "      <td>AR</td>\n",
       "      <td>2011</td>\n",
       "      <td>0.052260</td>\n",
       "      <td>0.168841</td>\n",
       "      <td>#040314</td>\n",
       "    </tr>\n",
       "    <tr>\n",
       "      <th>3</th>\n",
       "      <td>AZ</td>\n",
       "      <td>2011</td>\n",
       "      <td>0.050801</td>\n",
       "      <td>0.164946</td>\n",
       "      <td>#08061F</td>\n",
       "    </tr>\n",
       "    <tr>\n",
       "      <th>4</th>\n",
       "      <td>CA</td>\n",
       "      <td>2011</td>\n",
       "      <td>0.046548</td>\n",
       "      <td>0.150727</td>\n",
       "      <td>#0D0828</td>\n",
       "    </tr>\n",
       "  </tbody>\n",
       "</table>\n",
       "</div>"
      ],
      "text/plain": [
       "  locationabbr  yearstart       PC1       PC2    color\n",
       "0           AK       2011  0.054434  0.175641  #000003\n",
       "1           AL       2011  0.053431  0.171641  #010109\n",
       "2           AR       2011  0.052260  0.168841  #040314\n",
       "3           AZ       2011  0.050801  0.164946  #08061F\n",
       "4           CA       2011  0.046548  0.150727  #0D0828"
      ]
     },
     "execution_count": 15,
     "metadata": {},
     "output_type": "execute_result"
    }
   ],
   "source": [
    "plot_data.head()"
   ]
  },
  {
   "cell_type": "code",
   "execution_count": 16,
   "metadata": {},
   "outputs": [],
   "source": [
    "from bokeh.models import Label, LabelSet"
   ]
  },
  {
   "cell_type": "code",
   "execution_count": 24,
   "metadata": {},
   "outputs": [
    {
     "data": {
      "text/html": [
       "<div>\n",
       "<style scoped>\n",
       "    .dataframe tbody tr th:only-of-type {\n",
       "        vertical-align: middle;\n",
       "    }\n",
       "\n",
       "    .dataframe tbody tr th {\n",
       "        vertical-align: top;\n",
       "    }\n",
       "\n",
       "    .dataframe thead th {\n",
       "        text-align: right;\n",
       "    }\n",
       "</style>\n",
       "<table border=\"1\" class=\"dataframe\">\n",
       "  <thead>\n",
       "    <tr style=\"text-align: right;\">\n",
       "      <th></th>\n",
       "      <th>locationabbr</th>\n",
       "      <th>yearstart</th>\n",
       "      <th>PC1</th>\n",
       "      <th>PC2</th>\n",
       "      <th>color</th>\n",
       "    </tr>\n",
       "  </thead>\n",
       "  <tbody>\n",
       "    <tr>\n",
       "      <th>320</th>\n",
       "      <td>AK</td>\n",
       "      <td>2017</td>\n",
       "      <td>NaN</td>\n",
       "      <td>NaN</td>\n",
       "      <td>#000003</td>\n",
       "    </tr>\n",
       "    <tr>\n",
       "      <th>321</th>\n",
       "      <td>AL</td>\n",
       "      <td>2017</td>\n",
       "      <td>NaN</td>\n",
       "      <td>NaN</td>\n",
       "      <td>#010109</td>\n",
       "    </tr>\n",
       "    <tr>\n",
       "      <th>322</th>\n",
       "      <td>AR</td>\n",
       "      <td>2017</td>\n",
       "      <td>NaN</td>\n",
       "      <td>NaN</td>\n",
       "      <td>#040314</td>\n",
       "    </tr>\n",
       "    <tr>\n",
       "      <th>323</th>\n",
       "      <td>AZ</td>\n",
       "      <td>2017</td>\n",
       "      <td>NaN</td>\n",
       "      <td>NaN</td>\n",
       "      <td>#08061F</td>\n",
       "    </tr>\n",
       "    <tr>\n",
       "      <th>324</th>\n",
       "      <td>CA</td>\n",
       "      <td>2017</td>\n",
       "      <td>NaN</td>\n",
       "      <td>NaN</td>\n",
       "      <td>#0D0828</td>\n",
       "    </tr>\n",
       "  </tbody>\n",
       "</table>\n",
       "</div>"
      ],
      "text/plain": [
       "    locationabbr  yearstart  PC1  PC2    color\n",
       "320           AK       2017  NaN  NaN  #000003\n",
       "321           AL       2017  NaN  NaN  #010109\n",
       "322           AR       2017  NaN  NaN  #040314\n",
       "323           AZ       2017  NaN  NaN  #08061F\n",
       "324           CA       2017  NaN  NaN  #0D0828"
      ]
     },
     "execution_count": 24,
     "metadata": {},
     "output_type": "execute_result"
    }
   ],
   "source": [
    "plot_data[plot_data.yearstart == 2017].head()"
   ]
  },
  {
   "cell_type": "code",
   "execution_count": 20,
   "metadata": {},
   "outputs": [
    {
     "data": {
      "application/vnd.jupyter.widget-view+json": {
       "model_id": "fa2e8b571b8543789ee94527dc8df2aa",
       "version_major": 2,
       "version_minor": 0
      },
      "text/plain": [
       "interactive(children=(IntSlider(value=2015, description='y', max=2020, min=2011), Output()), _dom_classes=('wi…"
      ]
     },
     "metadata": {},
     "output_type": "display_data"
    },
    {
     "data": {
      "text/plain": [
       "<function __main__.update(y)>"
      ]
     },
     "execution_count": 20,
     "metadata": {},
     "output_type": "execute_result"
    }
   ],
   "source": [
    "source = ColumnDataSource(data=dict(\n",
    "    PC1=plot_data.PC1\n",
    "    , PC2=plot_data.PC2\n",
    "    , locationabbr=plot_data.locationabbr\n",
    "    , color=plot_data.color\n",
    "))\n",
    "\n",
    "plot = figure(width=400, \n",
    "              height=400, \n",
    "              tools=\"crosshair,pan,reset,save,wheel_zoom,box_zoom\", \n",
    "              x_axis_label=\"PC1\", \n",
    "              y_axis_label=\"PC2\", \n",
    "              title=\"PCA Components\");\n",
    "plot.scatter('PC1','PC2',source=source, fill_color='color', fill_alpha=0.6);\n",
    "labels = LabelSet(x='PC1', y='PC2', text='locationabbr',\n",
    "              x_offset=5, y_offset=5, source=source)\n",
    "plot.add_layout(labels)\n",
    "\n",
    "p = gridplot([plot],ncols=2, merge_tools=True)\n",
    "    \n",
    "def update(y):\n",
    "    filtered_data = plot_data[plot_data.yearstart == y]\n",
    "    source.data = dict(\n",
    "        PC1=filtered_data.PC1\n",
    "        , PC2=filtered_data.PC2\n",
    "        , locationabbr=filtered_data.locationabbr\n",
    "        , color=filtered_data.color\n",
    "    )\n",
    "    output_notebook();\n",
    "    show(p);\n",
    "    push_notebook();\n",
    "\n",
    "interact(update, y=(2011,2020), continuous_update=False)"
   ]
  },
  {
   "cell_type": "markdown",
   "metadata": {},
   "source": [
    "Notes:\n",
    "- In 2011, they are in like a diagonal line? What does that mean? I'm guessing it means I'm including a variable I shouldn't be...\n",
    "- In 2012 we've got a few clusters,\n",
    "       - one includes NC, NJ, DC, FL, MT, CA, ID\n",
    "       - another includes OK, OH, ME, NY, NM, TX, VA\n",
    "       - AR, AK far from the rest\n",
    "- 2013 more clusters\n",
    "    - one has NC, NM, HI, LA, NH, MT\n",
    "    - another has SD TX WV, PA\n",
    "    - third has AK, AR, CA, DC, AZ\n",
    "- 2014 has a cluster with NJ, NH, HI, NY and more\n",
    "- 2015 has one with NC, NJ, LA, MD, I wouldn't be surprised if this is the same one we saw in 2014...\n",
    "- what happens in 2016???"
   ]
  }
 ],
 "metadata": {
  "kernelspec": {
   "display_name": "Python 3 (ipykernel)",
   "language": "python",
   "name": "python3"
  },
  "language_info": {
   "codemirror_mode": {
    "name": "ipython",
    "version": 3
   },
   "file_extension": ".py",
   "mimetype": "text/x-python",
   "name": "python",
   "nbconvert_exporter": "python",
   "pygments_lexer": "ipython3",
   "version": "3.8.10"
  }
 },
 "nbformat": 4,
 "nbformat_minor": 2
}
